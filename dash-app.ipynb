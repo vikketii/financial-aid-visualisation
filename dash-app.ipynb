{
 "cells": [
  {
   "cell_type": "code",
   "execution_count": 14,
   "id": "bf1d36df-cf8d-4804-9b26-e6a765656be9",
   "metadata": {},
   "outputs": [],
   "source": [
    "from dash import Dash, dcc, html, Input, Output, callback\n",
    "import plotly.express as px\n",
    "import pandas as pd\n",
    "import os"
   ]
  },
  {
   "cell_type": "code",
   "execution_count": 18,
   "id": "3f657795-6ded-42b0-bd50-51de7667fc0c",
   "metadata": {},
   "outputs": [
    {
     "data": {
      "text/html": [
       "\n",
       "        <iframe\n",
       "            width=\"100%\"\n",
       "            height=\"650\"\n",
       "            src=\"http://127.0.0.1:8050/\"\n",
       "            frameborder=\"0\"\n",
       "            allowfullscreen\n",
       "            \n",
       "        ></iframe>\n",
       "        "
      ],
      "text/plain": [
       "<IPython.lib.display.IFrame at 0x7f2f6c6e29c0>"
      ]
     },
     "metadata": {},
     "output_type": "display_data"
    }
   ],
   "source": [
    "df = px.data.election()\n",
    "\n",
    "app = Dash(__name__)\n",
    "\n",
    "app.layout = html.Div(\n",
    "    [\n",
    "        html.H4(\"Political candidate voting pool analysis\"),\n",
    "        html.P(\"Select a candidate:\"),\n",
    "        dcc.RadioItems(\n",
    "            id=\"candidate\",\n",
    "            options=[\"Joly\", \"Coderre\", \"Bergeron\"],\n",
    "            value=\"Coderre\",\n",
    "            inline=True,\n",
    "        ),\n",
    "        dcc.Graph(id=\"graph\"),\n",
    "    ]\n",
    ")\n",
    "\n",
    "\n",
    "@app.callback(\n",
    "    Output(\"graph\", \"figure\"),\n",
    "    Input(\"candidate\", \"value\"),\n",
    ")\n",
    "def display_choropleth(candidate):\n",
    "    geojson = px.data.election_geojson()\n",
    "    fig = px.choropleth(\n",
    "        df,\n",
    "        geojson=geojson,\n",
    "        color=candidate,\n",
    "        locations=\"district\",\n",
    "        featureidkey=\"properties.district\",\n",
    "        projection=\"mercator\",\n",
    "        range_color=[0, 6500],\n",
    "    )\n",
    "    fig.update_geos(fitbounds=\"locations\", visible=False)\n",
    "    fig.update_layout(margin={\"r\": 0, \"t\": 0, \"l\": 0, \"b\": 0})\n",
    "    return fig\n",
    "\n",
    "\n",
    "if __name__ == \"__main__\":\n",
    "    app.run(debug=True)"
   ]
  },
  {
   "cell_type": "code",
   "execution_count": 36,
   "id": "67ba6c29-dc1c-4b85-8de7-73bc7079d968",
   "metadata": {},
   "outputs": [],
   "source": [
    "timeline_data = [\n",
    "    {\n",
    "        \"year\": 2015,\n",
    "        \"description\": \"Text\"\n",
    "    },\n",
    "    {\n",
    "        \"year\": 2016,\n",
    "        \"description\": \"Text\"\n",
    "    },\n",
    "    {\n",
    "        \"year\": 2017,\n",
    "        \"description\": \"Text\"\n",
    "    },\n",
    "    {\n",
    "        \"year\": 2018,\n",
    "        \"description\": \"Text\"\n",
    "    },\n",
    "    {\n",
    "        \"year\": 2019,\n",
    "        \"description\": \"Text\"\n",
    "    },\n",
    "    # {\n",
    "    #     \"year\": 2020,\n",
    "    #     \"description\": \"Text\"\n",
    "    # },\n",
    "    # {\n",
    "    #     \"year\": 2021,\n",
    "    #     \"description\": \"Text\"\n",
    "    # },\n",
    "    # {\n",
    "    #     \"year\": 2022,\n",
    "    #     \"description\": \"Text\"\n",
    "    # },\n",
    "    # {\n",
    "    #     \"year\": 2023,\n",
    "    #     \"description\": \"Text\"\n",
    "    # },\n",
    "    # {\n",
    "    #     \"year\": 2024,\n",
    "    #     \"description\": \"Text\"\n",
    "    # }\n",
    "]"
   ]
  },
  {
   "cell_type": "code",
   "execution_count": 46,
   "id": "b5a6f1f2-4894-4360-943a-9531e35f0544",
   "metadata": {},
   "outputs": [
    {
     "name": "stdout",
     "output_type": "stream",
     "text": [
      "Dash app running on http://127.0.0.1:8050/\n"
     ]
    },
    {
     "data": {
      "application/javascript": [
       "window.open('http://127.0.0.1:8050/')"
      ],
      "text/plain": [
       "<IPython.core.display.Javascript object>"
      ]
     },
     "metadata": {},
     "output_type": "display_data"
    }
   ],
   "source": [
    "# Timeline component with radio\n",
    "\n",
    "from dash import Dash, dcc, html\n",
    "\n",
    "year_radio = [{\"label\": html.Div([f\"{t[\"year\"]} - {t[\"description\"]}\"], className=\"timeline\"), \"value\": t[\"year\"]} for t in timeline_data]\n",
    "\n",
    "app = Dash()\n",
    "\n",
    "app.layout = dcc.RadioItems(year_radio, value=timeline_data[0][\"year\"])\n",
    "\n",
    "if __name__ == \"__main__\":\n",
    "    app.run(jupyter_mode=\"tab\")"
   ]
  }
 ],
 "metadata": {
  "kernelspec": {
   "display_name": "vis-project",
   "language": "python",
   "name": "vis-project"
  },
  "language_info": {
   "codemirror_mode": {
    "name": "ipython",
    "version": 3
   },
   "file_extension": ".py",
   "mimetype": "text/x-python",
   "name": "python",
   "nbconvert_exporter": "python",
   "pygments_lexer": "ipython3",
   "version": "3.13.2"
  }
 },
 "nbformat": 4,
 "nbformat_minor": 5
}
