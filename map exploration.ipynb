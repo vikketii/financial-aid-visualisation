{
 "cells": [
  {
   "cell_type": "code",
   "execution_count": 1,
   "id": "cf031a88-79a4-45c8-8819-7d8036c6ff7c",
   "metadata": {},
   "outputs": [],
   "source": [
    "import pandas as pd\n",
    "import numpy as np\n",
    "import plotly.express as px"
   ]
  },
  {
   "cell_type": "code",
   "execution_count": 2,
   "id": "c0a23925-91a9-41ca-b193-6d88c2bfcc8c",
   "metadata": {},
   "outputs": [],
   "source": [
    "municipalities = pd.read_csv(\"./data/kunnat/kunta4500k.csv\")\n",
    "aid25 = pd.read_csv(\"./data/data_2025.csv\")"
   ]
  },
  {
   "cell_type": "code",
   "execution_count": 6,
   "id": "63a02d4a-0d1a-4185-8a85-f6012d8157af",
   "metadata": {},
   "outputs": [
    {
     "name": "stdout",
     "output_type": "stream",
     "text": [
      "<class 'pandas.core.frame.DataFrame'>\n",
      "RangeIndex: 139460 entries, 0 to 139459\n",
      "Data columns (total 15 columns):\n",
      " #   Column                 Non-Null Count   Dtype  \n",
      "---  ------                 --------------   -----  \n",
      " 0   aikatyyppi             139460 non-null  object \n",
      " 1   kuukausi_nro           139460 non-null  int64  \n",
      " 2   vuosikuukausi          139460 non-null  int64  \n",
      " 3   vuosi                  139460 non-null  int64  \n",
      " 4   kunta_nro              139460 non-null  int64  \n",
      " 5   kunta_nimi             139460 non-null  object \n",
      " 6   ikaryhma               139460 non-null  object \n",
      " 7   sukupuoli              139460 non-null  object \n",
      " 8   etuus                  139460 non-null  object \n",
      " 9   oppilaitos_peruste     139460 non-null  object \n",
      " 10  oppilaitosaste         139460 non-null  object \n",
      " 11  saaja_lkm              139460 non-null  int64  \n",
      " 12  saaja_laskenta_lkm     139460 non-null  int64  \n",
      " 13  maksettu_eur           139460 non-null  float64\n",
      " 14  maksettu_laskenta_eur  139460 non-null  float64\n",
      "dtypes: float64(2), int64(6), object(7)\n",
      "memory usage: 16.0+ MB\n"
     ]
    }
   ],
   "source": [
    "aid25.info()"
   ]
  },
  {
   "cell_type": "code",
   "execution_count": 14,
   "id": "db31037d-4ba8-4387-9eae-686979afe52b",
   "metadata": {},
   "outputs": [
    {
     "name": "stdout",
     "output_type": "stream",
     "text": [
      "<class 'pandas.core.series.Series'>\n",
      "Index: 295 entries, 91 to 435\n",
      "Series name: count\n",
      "Non-Null Count  Dtype\n",
      "--------------  -----\n",
      "295 non-null    int64\n",
      "dtypes: int64(1)\n",
      "memory usage: 4.6 KB\n"
     ]
    }
   ],
   "source": [
    "# aid25_by_municipality = aid25.groupby(\"kunta_nro\")\n",
    "# aid25_by_municipality.count().head()\n",
    "\n",
    "receivers_by_municipality = aid25.value_counts(\"kunta_nro\")\n",
    "receivers_by_municipality.info()"
   ]
  },
  {
   "cell_type": "code",
   "execution_count": 22,
   "id": "e0590ff2-90f0-4fc9-afbf-2f0ca72a2bb2",
   "metadata": {},
   "outputs": [
    {
     "data": {
      "text/html": [
       "<div>\n",
       "<style scoped>\n",
       "    .dataframe tbody tr th:only-of-type {\n",
       "        vertical-align: middle;\n",
       "    }\n",
       "\n",
       "    .dataframe tbody tr th {\n",
       "        vertical-align: top;\n",
       "    }\n",
       "\n",
       "    .dataframe thead th {\n",
       "        text-align: right;\n",
       "    }\n",
       "</style>\n",
       "<table border=\"1\" class=\"dataframe\">\n",
       "  <thead>\n",
       "    <tr style=\"text-align: right;\">\n",
       "      <th></th>\n",
       "      <th>FID</th>\n",
       "      <th>vuosi</th>\n",
       "      <th>nimi</th>\n",
       "      <th>namn</th>\n",
       "      <th>name</th>\n",
       "      <th>geom</th>\n",
       "      <th>count</th>\n",
       "    </tr>\n",
       "    <tr>\n",
       "      <th>kunta</th>\n",
       "      <th></th>\n",
       "      <th></th>\n",
       "      <th></th>\n",
       "      <th></th>\n",
       "      <th></th>\n",
       "      <th></th>\n",
       "      <th></th>\n",
       "    </tr>\n",
       "  </thead>\n",
       "  <tbody>\n",
       "    <tr>\n",
       "      <th>91</th>\n",
       "      <td>kunta4500k.33</td>\n",
       "      <td>2025</td>\n",
       "      <td>Helsinki</td>\n",
       "      <td>Helsingfors</td>\n",
       "      <td>Helsinki</td>\n",
       "      <td>POLYGON ((402737.69091809395 6680700.308698478...</td>\n",
       "      <td>1921.0</td>\n",
       "    </tr>\n",
       "    <tr>\n",
       "      <th>837</th>\n",
       "      <td>kunta4500k.268</td>\n",
       "      <td>2025</td>\n",
       "      <td>Tampere</td>\n",
       "      <td>Tammerfors</td>\n",
       "      <td>Tampere</td>\n",
       "      <td>POLYGON ((346626.25600018946 6854536.217996115...</td>\n",
       "      <td>1670.0</td>\n",
       "    </tr>\n",
       "    <tr>\n",
       "      <th>49</th>\n",
       "      <td>kunta4500k.12</td>\n",
       "      <td>2025</td>\n",
       "      <td>Espoo</td>\n",
       "      <td>Esbo</td>\n",
       "      <td>Espoo</td>\n",
       "      <td>POLYGON ((375773.697999968 6691596.516999634, ...</td>\n",
       "      <td>1614.0</td>\n",
       "    </tr>\n",
       "    <tr>\n",
       "      <th>92</th>\n",
       "      <td>kunta4500k.34</td>\n",
       "      <td>2025</td>\n",
       "      <td>Vantaa</td>\n",
       "      <td>Vanda</td>\n",
       "      <td>Vantaa</td>\n",
       "      <td>POLYGON ((392811.8019999773 6694857.167000004,...</td>\n",
       "      <td>1588.0</td>\n",
       "    </tr>\n",
       "    <tr>\n",
       "      <th>853</th>\n",
       "      <td>kunta4500k.276</td>\n",
       "      <td>2025</td>\n",
       "      <td>Turku</td>\n",
       "      <td>Åbo</td>\n",
       "      <td>Turku</td>\n",
       "      <td>POLYGON ((251038.06801801227 6731421.608847396...</td>\n",
       "      <td>1576.0</td>\n",
       "    </tr>\n",
       "  </tbody>\n",
       "</table>\n",
       "</div>"
      ],
      "text/plain": [
       "                  FID  vuosi      nimi         namn      name  \\\n",
       "kunta                                                           \n",
       "91      kunta4500k.33   2025  Helsinki  Helsingfors  Helsinki   \n",
       "837    kunta4500k.268   2025   Tampere   Tammerfors   Tampere   \n",
       "49      kunta4500k.12   2025     Espoo         Esbo     Espoo   \n",
       "92      kunta4500k.34   2025    Vantaa        Vanda    Vantaa   \n",
       "853    kunta4500k.276   2025     Turku          Åbo     Turku   \n",
       "\n",
       "                                                    geom   count  \n",
       "kunta                                                             \n",
       "91     POLYGON ((402737.69091809395 6680700.308698478...  1921.0  \n",
       "837    POLYGON ((346626.25600018946 6854536.217996115...  1670.0  \n",
       "49     POLYGON ((375773.697999968 6691596.516999634, ...  1614.0  \n",
       "92     POLYGON ((392811.8019999773 6694857.167000004,...  1588.0  \n",
       "853    POLYGON ((251038.06801801227 6731421.608847396...  1576.0  "
      ]
     },
     "execution_count": 22,
     "metadata": {},
     "output_type": "execute_result"
    }
   ],
   "source": [
    "municipalities_with_count = municipalities.set_index(\"kunta\").join(receivers_by_municipality).sort_values(\"count\", ascending=False)\n",
    "municipalities_with_count.head()"
   ]
  },
  {
   "cell_type": "code",
   "execution_count": null,
   "id": "1a95e90f-4c49-4199-9480-166456ec0d83",
   "metadata": {},
   "outputs": [],
   "source": [
    "# Map\n",
    "\n",
    "fig = px.choropleth_map(df, geojson=geom, locations='fips', color='unemp',\n",
    "                           color_continuous_scale=\"Viridis\",\n",
    "                           range_color=(0, 12),\n",
    "                           map_style=\"carto-positron\",\n",
    "                           zoom=3, center = {\"lat\": 37.0902, \"lon\": -95.7129},\n",
    "                           opacity=0.5,\n",
    "                           labels={'unemp':'unemployment rate'}\n",
    "                          )\n",
    "\n",
    "fig.update_layout(margin={\"r\":0,\"t\":0,\"l\":0,\"b\":0})\n",
    "fig.show()\n"
   ]
  }
 ],
 "metadata": {
  "kernelspec": {
   "display_name": "venv",
   "language": "python",
   "name": "venv"
  },
  "language_info": {
   "codemirror_mode": {
    "name": "ipython",
    "version": 3
   },
   "file_extension": ".py",
   "mimetype": "text/x-python",
   "name": "python",
   "nbconvert_exporter": "python",
   "pygments_lexer": "ipython3",
   "version": "3.13.2"
  }
 },
 "nbformat": 4,
 "nbformat_minor": 5
}
