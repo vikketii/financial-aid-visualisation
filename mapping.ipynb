{
 "cells": [
  {
   "cell_type": "code",
   "execution_count": 1,
   "id": "0c61632c-f897-420d-9d27-a473a67cd05f",
   "metadata": {},
   "outputs": [
    {
     "name": "stdout",
     "output_type": "stream",
     "text": [
      "Requirement already satisfied: pyproj in ./vis-project/lib/python3.13/site-packages (3.7.1)\n",
      "Requirement already satisfied: certifi in ./vis-project/lib/python3.13/site-packages (from pyproj) (2025.1.31)\n"
     ]
    }
   ],
   "source": [
    "!pip install pyproj"
   ]
  },
  {
   "cell_type": "code",
   "execution_count": 2,
   "id": "3e6dc09d-054a-4597-8854-a3b6e5d196b9",
   "metadata": {},
   "outputs": [],
   "source": [
    "import pandas as pd\n",
    "from pyproj import Transformer"
   ]
  },
  {
   "cell_type": "code",
   "execution_count": 3,
   "id": "48c28102-f114-4dac-a7c1-6bc0171845d5",
   "metadata": {},
   "outputs": [
    {
     "name": "stdout",
     "output_type": "stream",
     "text": [
      "<class 'pandas.core.frame.DataFrame'>\n",
      "RangeIndex: 308 entries, 0 to 307\n",
      "Data columns (total 7 columns):\n",
      " #   Column  Non-Null Count  Dtype \n",
      "---  ------  --------------  ----- \n",
      " 0   FID     308 non-null    object\n",
      " 1   kunta   308 non-null    int64 \n",
      " 2   vuosi   308 non-null    int64 \n",
      " 3   nimi    308 non-null    object\n",
      " 4   namn    308 non-null    object\n",
      " 5   name    308 non-null    object\n",
      " 6   geom    308 non-null    object\n",
      "dtypes: int64(2), object(5)\n",
      "memory usage: 17.0+ KB\n"
     ]
    }
   ],
   "source": [
    "kunnat = pd.read_csv(\"data/kunnat/kunta4500k.csv\")\n",
    "kunnat.info()"
   ]
  },
  {
   "cell_type": "code",
   "execution_count": 4,
   "id": "f80d2371-9fcb-435f-959c-11c532810a33",
   "metadata": {},
   "outputs": [],
   "source": [
    "kunnat_dict = kunnat.to_dict(\"list\")\n",
    "temp = {}\n",
    "structure = [\"FID\", \"kunta\", \"vuosi\", \"nimi\", \"namn\", \"name\", \"coordinates\"]\n",
    "si = 0\n",
    "\n",
    "for column_name in kunnat_dict:\n",
    "    for i, k in enumerate(kunnat_dict[column_name]):\n",
    "        if i in temp:\n",
    "            temp[i].update({structure[si]: k})\n",
    "        else:\n",
    "            temp[i] = {structure[si]: k}\n",
    "    si += 1\n"
   ]
  },
  {
   "cell_type": "code",
   "execution_count": 10,
   "id": "12df091f-2672-44c8-ac76-68089c43a6b4",
   "metadata": {},
   "outputs": [
    {
     "name": "stdout",
     "output_type": "stream",
     "text": [
      "{'type': 'Feature', 'geometry': {'type': 'Polygon', 'coordinates': [[[63.11642950937275, 24.359007626173202], [63.06437535380347, 24.278016678975813], [62.98835315277282, 24.300936607202797], [63.01327363142358, 24.18229643786593], [62.96355243645589, 24.092852576241295], [62.97185820361599, 24.028940138920387], [62.860918645461396, 23.99196412954902], [62.831217447644356, 24.143433221373133], [62.73648419728666, 24.03952144927343], [62.75092581364169, 23.931593904754042], [62.76260589820092, 23.847048841670077], [62.91962829590023, 23.519471162088397], [62.94996119653581, 23.490324658143237], [62.97903719389498, 23.5007685875876], [63.111901184558164, 23.71563834943641], [63.07548536125099, 23.75038702635897], [63.1479983417847, 24.170771051142268], [63.11642950937275, 24.359007626173202]]]}, 'properties': {'id': 5, 'name': 'Alajärvi'}}\n"
     ]
    }
   ],
   "source": [
    "import re\n",
    "\n",
    "features = []\n",
    "\n",
    "def handle_polygon(p):\n",
    "    result = []\n",
    "    search = re.compile(r\"(\\d+.\\d+) (\\d+.\\d+)\")\n",
    "    l = search.findall(p)\n",
    "    transformer = Transformer.from_crs(\"EPSG:3067\", \"EPSG:4326\")\n",
    "    \n",
    "    for pair in l:\n",
    "        coordinates = transformer.transform(float(pair[0]), float(pair[1]))\n",
    "        result.append(list(coordinates))\n",
    "        \n",
    "    return result\n",
    "    \n",
    "\n",
    "    \n",
    "    \n",
    "\n",
    "# polygon = \"POLYGON ((366787.92400007433 7001300.582998411, 362458.797000109 6995675.228997898, 363260.7930000954 6987161.697998049, 357374.74200016126 6990194.168997132, 352599.11600023136 6984860.2019962305, 349403.0040002923 6985932.9889954645, 346951.9410003302 6973669.695994952, 354508.0040001854 6970011.823996754, 348733.1870002747 6959704.550995577, 343298.20400040667 6961570.194994021, 339046.7090005409 6963078.848992498, 323281.48600148177 6981415.651983124, 321987.07200160914 6984871.923981947, 322692.6630015667 6988079.051982387, 334329.4410008429 7002293.675989546, 335875.88900075614 6998150.952990417, 357452.6040001728 7005219.799997036, 366787.92400007433 7001300.582998411))\"\n",
    "\n",
    "# print(handle_polygon(polygon))\n",
    "\n",
    "\n",
    "for k, v in temp.items():\n",
    "    result = { \"type\": \"Feature\",\n",
    "              \"geometry\": {\n",
    "                  \"type\": \"Polygon\",\n",
    "                  \"coordinates\": [handle_polygon(v[\"coordinates\"])]\n",
    "              },\n",
    "              \"properties\": {\n",
    "                  \"id\": v[\"kunta\"],\n",
    "                  \"name\": v[\"nimi\"]\n",
    "              }\n",
    "             }\n",
    "    features.append(result)\n",
    "\n",
    "print(features[0])\n",
    "\n",
    "geojson = {\"type\": \"FeatureCollection\", \"features\": features}\n"
   ]
  },
  {
   "cell_type": "code",
   "execution_count": 12,
   "id": "ac71c6e2-6e92-4727-88e0-75e9eee758eb",
   "metadata": {},
   "outputs": [],
   "source": [
    "import json\n",
    "with open(\"./data/test.json\", \"w\") as fp:\n",
    "    json.dump(geojson, fp)"
   ]
  },
  {
   "cell_type": "code",
   "execution_count": 7,
   "id": "308f93c6-f951-4a5e-aa1e-f769324ca037",
   "metadata": {},
   "outputs": [],
   "source": [
    "from pyproj import Transformer\n",
    "\n",
    "\n"
   ]
  }
 ],
 "metadata": {
  "kernelspec": {
   "display_name": "vis-project",
   "language": "python",
   "name": "vis-project"
  },
  "language_info": {
   "codemirror_mode": {
    "name": "ipython",
    "version": 3
   },
   "file_extension": ".py",
   "mimetype": "text/x-python",
   "name": "python",
   "nbconvert_exporter": "python",
   "pygments_lexer": "ipython3",
   "version": "3.13.2"
  }
 },
 "nbformat": 4,
 "nbformat_minor": 5
}
